{
 "cells": [
  {
   "cell_type": "markdown",
   "metadata": {},
   "source": [
    "튜플은 리스트와 다르게 소괄호로 만들며\n",
    "\n",
    "값을 읽을 수만 있고 수정할 수는 없음."
   ]
  },
  {
   "cell_type": "markdown",
   "metadata": {},
   "source": [
    "딕셔너리\n",
    "- 단어 의미 그대로 영어사전과 같은 구조를 가짐\n",
    "- 딕셔너리는 중괄호로 묶여 있음\n",
    "- 키 (Key) 와 값 (Value) 의 쌍으로 이루어짐\n",
    "\n",
    "딕셔너리변수 = {키1:값1, 키2:값2, ....}\n",
    "\n",
    "키와 값을 반대로 생성해도 무방함 !\n",
    "\n",
    "즉, 키와 값을 사용자가 지정하는 것이지 어떤 값을 반드시 사용해야 하는 규정은 없으며, 딕셔너리는 순서가 없음"
   ]
  },
  {
   "cell_type": "markdown",
   "metadata": {},
   "source": [
    "딕셔너리는 여러 개의 정보를 하나의 변수로 표현할 때 유용하게 사용됨 ..\n",
    "\n",
    "**테이블의 구조 == 딕셔너리의 구조** !! "
   ]
  },
  {
   "cell_type": "markdown",
   "metadata": {},
   "source": [
    "딕셔너리에 정보를 더 추가하기\n",
    "- 정보를 추가할 때는 키와 값을 쌍으로 추가해야 함\n",
    "- '딕셔너리이름[키] = 값' 형식을 사용함\n",
    "\n",
    "딕셔너리의 키는 중복되지 않고 유일해야 함.. !!"
   ]
  },
  {
   "cell_type": "markdown",
   "metadata": {},
   "source": [
    "딕셔너리와 관련된 유용한 함수\n",
    "- 딕셔너리이름.keys() : 딕셔너리의 모든 키만 뽑아서 반환함\n",
    "\n",
    "```py\n",
    ">>> empDict.keys()\n",
    "dict_keys(['사번', '이름', '부서'])\n",
    "```\n",
    "\n",
    "list(딕셔너리이름.keys()) : 출력 결과에 dict_keys 가 붙지 않음 !\n",
    "\n",
    "```py\n",
    ">>> list(empDict.keys())\n",
    "(['사번', '이름', '부서'])\n",
    "```"
   ]
  },
  {
   "cell_type": "markdown",
   "metadata": {},
   "source": [
    "딕셔너리이름.values() : 딕셔너리의 모든 값을 리슽트로 만들어서 반환\n",
    "\n",
    "딕셔너리이름.items() : 튜플 형태로도 구할 수 있음 !!\n",
    "\n",
    "딕셔너리 안에 키가 있는지는 in을 사용하면 확인이 가능함.\n",
    "\n",
    "in 은 if문과 함께 사용되는 경우가 많다.\n",
    "\n",
    "ex) \n",
    "\n",
    "```py\n",
    ">>> '이름' in empDict\n",
    "True\n",
    "```\n",
    "```py\n",
    ">>> '주소' in empDict\n",
    "False\n",
    "```"
   ]
  },
  {
   "cell_type": "markdown",
   "metadata": {},
   "source": [
    "딕셔너리에 저장된 것을 한 건씩 출력하려면 다음과 같이 for문과 함께 사용하면 됨..\n",
    "\n",
    "```py\n",
    ">>> for key in empDict.keys() :\n",
    "        print( key, empDict[key])\n",
    "```\n",
    "\n",
    "empDict.keys() 는 전체 키의 목록을 반환하므로 위 코드는 다음과 같이 변형될 수 있다.\n",
    "\n",
    "```py\n",
    ">>> for key in ['사변, '이름', '부서'] : \n",
    "        print( key, empDict[key])\n",
    "```\n",
    "\n",
    "<mark style='background-color: yeloow'> for key in 리스트 </mark> 구문은 리스트에 있는 것을 하나씩 추출해서 key에 넣고 반복문을 실행하므로 같은 결과가 나옴 ..\n",
    "\n"
   ]
  },
  {
   "cell_type": "markdown",
   "metadata": {},
   "source": [
    "딕셔너리 핵심 코드 !!!"
   ]
  }
 ],
 "metadata": {
  "language_info": {
   "name": "python"
  },
  "orig_nbformat": 4
 },
 "nbformat": 4,
 "nbformat_minor": 2
}
