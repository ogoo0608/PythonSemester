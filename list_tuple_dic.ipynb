{
 "cells": [
  {
   "cell_type": "code",
   "execution_count": 21,
   "metadata": {},
   "outputs": [],
   "source": [
    "# 리스트 선언 형태\n",
    "\n",
    "list1 = [10, 20, 30, 40]\n",
    "list2 = [i for i in range(1,10)]\n",
    "# list3 = [0 for i in range(10)]\n",
    "list3 = [0] * 10"
   ]
  },
  {
   "cell_type": "code",
   "execution_count": 22,
   "metadata": {},
   "outputs": [],
   "source": [
    "# 리스트 값 조작\n",
    "\n",
    "list1.append(50)\n",
    "list1[0] = 100\n",
    "list1[1:2] = [200,300]\n",
    "list2[1] = [100,200] # 리스트에 원소로 리스트를 추가\n",
    "list2.insert(1,2)\n",
    "del(list2[3])\n",
    "list3.remove(0)"
   ]
  },
  {
   "cell_type": "code",
   "execution_count": 23,
   "metadata": {},
   "outputs": [
    {
     "name": "stdout",
     "output_type": "stream",
     "text": [
      "[100, 200, 300, 30, 40, 50]\n",
      "[1, 2, [100, 200], 4, 5, 6, 7, 8, 9]\n",
      "[0, 0, 0, 0, 0, 0, 0, 0, 0]\n"
     ]
    }
   ],
   "source": [
    "# 리스트 출력\n",
    "\n",
    "print(list1)\n",
    "print(list2)\n",
    "print(list3)"
   ]
  },
  {
   "cell_type": "code",
   "execution_count": 25,
   "metadata": {},
   "outputs": [
    {
     "name": "stdout",
     "output_type": "stream",
     "text": [
      "[100, 200, 300, 30, 40, 50, 1, 2, [100, 200], 4, 5, 6, 7, 8, 9]\n",
      "[100, 200, 300, 30, 40, 50, 100, 200, 300, 30, 40, 50, 100, 200, 300, 30, 40, 50]\n"
     ]
    }
   ],
   "source": [
    "# 리스트 결합\n",
    "\n",
    "print(list1 + list2)\n",
    "print(list1 * 3)\n"
   ]
  },
  {
   "cell_type": "code",
   "execution_count": 27,
   "metadata": {},
   "outputs": [
    {
     "name": "stdout",
     "output_type": "stream",
     "text": [
      "5\n",
      "40\n",
      "[100, 200, 300, 30]\n",
      "9\n"
     ]
    }
   ],
   "source": [
    "# 기타 리스트 관련 함수 활용\n",
    "\n",
    "print(len(list1)) # 리스트 크기 ==> 6\n",
    "print(list1.pop()) # 마지막 값을 꺼내오고 삭제 ==> 50 삭제\n",
    "print(list1)\n",
    "print(list3.count(0)) # ==> 9"
   ]
  },
  {
   "cell_type": "code",
   "execution_count": 30,
   "metadata": {},
   "outputs": [
    {
     "name": "stdout",
     "output_type": "stream",
     "text": [
      "11 [1, 2, 3, 4]\n",
      "10 [1, 2, 3, 4] [1, 2, 3, 4]\n"
     ]
    }
   ],
   "source": [
    "num1 = 10\n",
    "m = [1,2,3]\n",
    "m2 = m\n",
    "\n",
    "def varChange(i, mlist) :\n",
    "    i = i + 1\n",
    "    mlist.append(4)\n",
    "    print(i, mlist)\n",
    "    \n",
    "varChange(num1, m)\n",
    "print(num1, m, m2) \n",
    "# 원시변수 값이 안변하는것 ..이뮤터블 !! 리스트는 값 변경 가능.. 뮤터블 \n",
    "# 함수 안에서 값을 바꾸면 바깥에서도 적용 됨.. ==> 중요\n",
    "# 이렇게 하고 싶지 않다면 copy 함수를 이용해라."
   ]
  },
  {
   "cell_type": "code",
   "execution_count": 38,
   "metadata": {},
   "outputs": [
    {
     "name": "stdout",
     "output_type": "stream",
     "text": [
      "0:100\n",
      "1:200\n",
      "2:300\n",
      "3:30\n",
      "100 1\n",
      "200 2\n",
      "300 [100, 200]\n",
      "30 4\n"
     ]
    }
   ],
   "source": [
    "# for문 함께 사용시 유용한 방법 \n",
    "\n",
    "for i, n in enumerate(list1) : # enumerate \n",
    "    print(i,n, sep=':')\n",
    "    \n",
    "for l1, l2 in zip(list1, list2) : # 값을 unpacking 가능\n",
    "    print(l1,l2)"
   ]
  },
  {
   "cell_type": "code",
   "execution_count": null,
   "metadata": {},
   "outputs": [],
   "source": [
    "## 딕셔너리 예제\n",
    "\n",
    "dict1 = {2021001:'홍길동', 2021002:'김사랑', 2021003:'나대장'}\n",
    "del1(dict1[2021003])\n",
    "\n",
    "print(dict1)\n",
    "print(dict1.keys(), dict1.values()) # dict_keys, dict_values 가 붙음. 출력상 보이는 값으로  for 등에서 사용시 문제 없음.\n",
    "print(list(dict1.keys()), list(dict1.values())) # dict_keys 붙지 않음\n",
    "print(dict1.items()) # 튜플 형태로 리턴"
   ]
  },
  {
   "cell_type": "code",
   "execution_count": null,
   "metadata": {},
   "outputs": [],
   "source": [
    "# key 로 전체값 출력\n",
    "for key in diect1.keys():\n",
    "    print(dict1[ket])\n",
    "\n",
    "# 전체 값만 출력\n",
    "for value in dict1.values():\n",
    "    print(value)\n",
    "    \n",
    "# 키가 있는지 확인, 주로 if와 사용\n",
    "if(2021001 in dict1) :\n",
    "    print(True)"
   ]
  }
 ],
 "metadata": {
  "interpreter": {
   "hash": "c4b3c3e98a20b3c6a423053c9f6cd0fafb29c4bcae530d4e51dfcfc7e95de538"
  },
  "kernelspec": {
   "display_name": "Python 3.9.9 64-bit (windows store)",
   "language": "python",
   "name": "python3"
  },
  "language_info": {
   "codemirror_mode": {
    "name": "ipython",
    "version": 3
   },
   "file_extension": ".py",
   "mimetype": "text/x-python",
   "name": "python",
   "nbconvert_exporter": "python",
   "pygments_lexer": "ipython3",
   "version": "3.9.9"
  },
  "orig_nbformat": 4
 },
 "nbformat": 4,
 "nbformat_minor": 2
}
